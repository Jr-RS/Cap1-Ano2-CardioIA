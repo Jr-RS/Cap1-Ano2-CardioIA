{
 "cells": [
  {
   "cell_type": "markdown",
   "id": "fd29a78c",
   "metadata": {},
   "source": [
    "# Dados Visuais — ECG Image Data (Kaggle)\n",
    "\n",
    "Instala a API do Kaggle, baixa `erhmrai/ecg-image-data`, e exibe uma imagem de exemplo para cada classe detectada."
   ]
  },
  {
   "cell_type": "code",
   "execution_count": 1,
   "id": "b99245e8",
   "metadata": {},
   "outputs": [
    {
     "name": "stdout",
     "output_type": "stream",
     "text": [
      "Dependências OK\n"
     ]
    }
   ],
   "source": [
    "# Instalações\n",
    "import sys, subprocess\n",
    "\n",
    "def pip_install(pkg: str):\n",
    "    subprocess.check_call([sys.executable, '-m', 'pip', 'install', pkg])\n",
    "\n",
    "for pkg in ['kaggle', 'matplotlib']:\n",
    "    try:\n",
    "        __import__(pkg)\n",
    "    except ImportError:\n",
    "        pip_install(pkg)\n",
    "print('Dependências OK')"
   ]
  },
  {
   "cell_type": "code",
   "execution_count": 2,
   "id": "31583605",
   "metadata": {},
   "outputs": [
    {
     "name": "stdout",
     "output_type": "stream",
     "text": [
      "Kaggle cred path: C:\\Users\\JuniorRodriguesdaSil\\.kaggle\\kaggle.json\n"
     ]
    }
   ],
   "source": [
    "# Autenticação Kaggle (igual ao notebook de dados numéricos)\n",
    "import os, json, pathlib\n",
    "home = pathlib.Path.home()\n",
    "kaggle_dir = home/'.kaggle'\n",
    "kaggle_dir.mkdir(exist_ok=True)\n",
    "cred_path = kaggle_dir/'kaggle.json'\n",
    "if os.getenv('KAGGLE_USERNAME') and os.getenv('KAGGLE_KEY') and not cred_path.exists():\n",
    "    creds = {\"username\": os.getenv('KAGGLE_USERNAME'), \"key\": os.getenv('KAGGLE_KEY')}\n",
    "    cred_path.write_text(json.dumps(creds))\n",
    "print('Kaggle cred path:', cred_path)"
   ]
  },
  {
   "cell_type": "code",
   "execution_count": null,
   "id": "6a01674b",
   "metadata": {},
   "outputs": [
    {
     "name": "stdout",
     "output_type": "stream",
     "text": [
      "Executando: c:\\ProgramData\\anaconda3\\python.exe -m kaggle datasets download -d erhmrai/ecg-image-data -p data\\visuais --unzip\n"
     ]
    },
    {
     "ename": "CalledProcessError",
     "evalue": "Command '['c:\\\\ProgramData\\\\anaconda3\\\\python.exe', '-m', 'kaggle', 'datasets', 'download', '-d', 'erhmrai/ecg-image-data', '-p', 'data\\\\visuais', '--unzip']' returned non-zero exit status 1.",
     "output_type": "error",
     "traceback": [
      "\u001b[1;31m---------------------------------------------------------------------------\u001b[0m",
      "\u001b[1;31mCalledProcessError\u001b[0m                        Traceback (most recent call last)",
      "Cell \u001b[1;32mIn[4], line 7\u001b[0m\n\u001b[0;32m      5\u001b[0m cmd \u001b[38;5;241m=\u001b[39m [sys\u001b[38;5;241m.\u001b[39mexecutable, \u001b[38;5;124m'\u001b[39m\u001b[38;5;124m-m\u001b[39m\u001b[38;5;124m'\u001b[39m, \u001b[38;5;124m'\u001b[39m\u001b[38;5;124mkaggle\u001b[39m\u001b[38;5;124m'\u001b[39m, \u001b[38;5;124m'\u001b[39m\u001b[38;5;124mdatasets\u001b[39m\u001b[38;5;124m'\u001b[39m, \u001b[38;5;124m'\u001b[39m\u001b[38;5;124mdownload\u001b[39m\u001b[38;5;124m'\u001b[39m, \u001b[38;5;124m'\u001b[39m\u001b[38;5;124m-d\u001b[39m\u001b[38;5;124m'\u001b[39m, \u001b[38;5;124m'\u001b[39m\u001b[38;5;124merhmrai/ecg-image-data\u001b[39m\u001b[38;5;124m'\u001b[39m, \u001b[38;5;124m'\u001b[39m\u001b[38;5;124m-p\u001b[39m\u001b[38;5;124m'\u001b[39m, \u001b[38;5;28mstr\u001b[39m(vis_dir), \u001b[38;5;124m'\u001b[39m\u001b[38;5;124m--unzip\u001b[39m\u001b[38;5;124m'\u001b[39m]\n\u001b[0;32m      6\u001b[0m \u001b[38;5;28mprint\u001b[39m(\u001b[38;5;124m'\u001b[39m\u001b[38;5;124mExecutando:\u001b[39m\u001b[38;5;124m'\u001b[39m, \u001b[38;5;124m'\u001b[39m\u001b[38;5;124m \u001b[39m\u001b[38;5;124m'\u001b[39m\u001b[38;5;241m.\u001b[39mjoin(cmd))\n\u001b[1;32m----> 7\u001b[0m subprocess\u001b[38;5;241m.\u001b[39mcheck_call(cmd)\n\u001b[0;32m      8\u001b[0m \u001b[38;5;28mprint\u001b[39m(\u001b[38;5;124m'\u001b[39m\u001b[38;5;124mDownload concluído em\u001b[39m\u001b[38;5;124m'\u001b[39m, vis_dir)\n",
      "File \u001b[1;32mc:\\ProgramData\\anaconda3\\Lib\\subprocess.py:413\u001b[0m, in \u001b[0;36mcheck_call\u001b[1;34m(*popenargs, **kwargs)\u001b[0m\n\u001b[0;32m    411\u001b[0m     \u001b[38;5;28;01mif\u001b[39;00m cmd \u001b[38;5;129;01mis\u001b[39;00m \u001b[38;5;28;01mNone\u001b[39;00m:\n\u001b[0;32m    412\u001b[0m         cmd \u001b[38;5;241m=\u001b[39m popenargs[\u001b[38;5;241m0\u001b[39m]\n\u001b[1;32m--> 413\u001b[0m     \u001b[38;5;28;01mraise\u001b[39;00m CalledProcessError(retcode, cmd)\n\u001b[0;32m    414\u001b[0m \u001b[38;5;28;01mreturn\u001b[39;00m \u001b[38;5;241m0\u001b[39m\n",
      "\u001b[1;31mCalledProcessError\u001b[0m: Command '['c:\\\\ProgramData\\\\anaconda3\\\\python.exe', '-m', 'kaggle', 'datasets', 'download', '-d', 'erhmrai/ecg-image-data', '-p', 'data\\\\visuais', '--unzip']' returned non-zero exit status 1."
     ]
    }
   ],
   "source": [
    "# Download temporário do dataset de imagens (com fallback offline)\n",
    "import os, json, pathlib, sys, tempfile, subprocess\n",
    "\n",
    "_tmp = tempfile.TemporaryDirectory()\n",
    "vis_dir = pathlib.Path(_tmp.name) / 'visuais'\n",
    "vis_dir.mkdir(parents=True, exist_ok=True)\n",
    "\n",
    "classes_dirs = []\n",
    "try:\n",
    "    if os.getenv('KAGGLE_USERNAME') and os.getenv('KAGGLE_KEY'):\n",
    "        kdir = pathlib.Path.home() / '.kaggle'\n",
    "        kdir.mkdir(exist_ok=True)\n",
    "        (kdir / 'kaggle.json').write_text(json.dumps({\n",
    "            'username': os.getenv('KAGGLE_USERNAME'),\n",
    "            'key': os.getenv('KAGGLE_KEY')\n",
    "        }))\n",
    "        cmd = [sys.executable, '-m', 'kaggle', 'datasets', 'download', '-d', 'erhmrai/ecg-image-data', '-p', str(vis_dir), '--unzip']\n",
    "        print('Baixando dataset Kaggle para:', vis_dir)\n",
    "        subprocess.check_call(cmd)\n",
    "        # detectar subpastas como classes\n",
    "        classes_dirs = [p for p in vis_dir.rglob('*') if p.is_dir() and any(i.suffix.lower() in {'.png','.jpg','.jpeg'} for i in p.iterdir() if i.is_file())]\n",
    "    else:\n",
    "        raise RuntimeError('Sem credenciais Kaggle')\n",
    "except Exception as e:\n",
    "    print('Falha ao baixar dataset Kaggle ou sem credenciais. Usando imagens sintéticas. Motivo:', e)\n",
    "    # Gerar 5 classes sintéticas com imagens simples\n",
    "    import numpy as np\n",
    "    from PIL import Image, ImageDraw\n",
    "    synth_classes = ['Normal','PVC','PAC','LBBB','RBBB']\n",
    "    for cname in synth_classes:\n",
    "        cdir = vis_dir / cname\n",
    "        cdir.mkdir(parents=True, exist_ok=True)\n",
    "        # criar 3 imagens por classe\n",
    "        for k in range(3):\n",
    "            img = Image.new('L', (256, 128), color=255)\n",
    "            draw = ImageDraw.Draw(img)\n",
    "            # Desenhar traços diferentes por classe\n",
    "            for x in range(0, 256, 4):\n",
    "                y = 64\n",
    "                if cname == 'Normal':\n",
    "                    y += int(20*np.sin(x/10))\n",
    "                elif cname == 'PVC':\n",
    "                    y += int(10*np.sin(x/12)) + (0 if (x//32)%8 else -30)\n",
    "                elif cname == 'PAC':\n",
    "                    y += int(8*np.sin(x/8)) + (0 if (x//40)%9 else -20)\n",
    "                elif cname == 'LBBB':\n",
    "                    y += int(15*np.sign(np.sin(x/15)))\n",
    "                elif cname == 'RBBB':\n",
    "                    y += int(15*np.sin(x/6))\n",
    "                draw.line((x, y, x+4, y), fill=0, width=1)\n",
    "            img.save(cdir / f'{cname.lower()}_{k}.png')\n",
    "        classes_dirs.append(cdir)\n",
    "\n",
    "print('Classes disponíveis:', [p.name for p in classes_dirs] or '(sintéticas geradas)')"
   ]
  },
  {
   "cell_type": "code",
   "execution_count": null,
   "id": "989a2db3",
   "metadata": {},
   "outputs": [],
   "source": [
    "# Exibir uma imagem de exemplo por classe\n",
    "import matplotlib.pyplot as plt\n",
    "import random\n",
    "\n",
    "if not classes_dirs:\n",
    "    raise RuntimeError('Nenhuma classe encontrada ou gerada.')\n",
    "\n",
    "classes = sorted(classes_dirs, key=lambda p: p.name)\n",
    "n = min(5, len(classes))\n",
    "fig, axs = plt.subplots(1, n, figsize=(4*n, 4))\n",
    "if n == 1:\n",
    "    axs = [axs]\n",
    "for ax, c in zip(axs, classes[:n]):\n",
    "    imgs = [i for i in c.iterdir() if i.is_file() and i.suffix.lower() in {'.png', '.jpg', '.jpeg'}]\n",
    "    if not imgs:\n",
    "        ax.set_title(f'Sem imagens em {c.name}')\n",
    "        ax.axis('off')\n",
    "        continue\n",
    "    img_path = random.choice(imgs)\n",
    "    img = plt.imread(str(img_path))\n",
    "    ax.imshow(img, cmap='gray')\n",
    "    ax.set_title(c.name)\n",
    "    ax.axis('off')\n",
    "plt.tight_layout()\n",
    "plt.show()"
   ]
  }
 ],
 "metadata": {
  "kernelspec": {
   "display_name": "base",
   "language": "python",
   "name": "python3"
  },
  "language_info": {
   "codemirror_mode": {
    "name": "ipython",
    "version": 3
   },
   "file_extension": ".py",
   "mimetype": "text/x-python",
   "name": "python",
   "nbconvert_exporter": "python",
   "pygments_lexer": "ipython3",
   "version": "3.12.7"
  }
 },
 "nbformat": 4,
 "nbformat_minor": 5
}
