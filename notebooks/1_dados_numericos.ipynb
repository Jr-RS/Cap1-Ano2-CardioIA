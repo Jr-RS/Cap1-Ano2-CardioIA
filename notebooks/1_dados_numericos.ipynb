{
 "cells": [
  {
   "cell_type": "markdown",
   "id": "8b50a726",
   "metadata": {},
   "source": [
    "# Dados Numéricos — Kaggle Cardiovascular Disease\n",
    "\n",
    "Este notebook instala a API do Kaggle, autentica, baixa o dataset `sulianova/cardiovascular-disease-dataset`, carrega com pandas e realiza uma EDA básica (head, info, describe)."
   ]
  },
  {
   "cell_type": "code",
   "execution_count": null,
   "id": "da26275a",
   "metadata": {},
   "outputs": [
    {
     "ename": "OSError",
     "evalue": "Could not find kaggle.json. Make sure it's located in C:\\Users\\JuniorRodriguesdaSil\\.kaggle. Or use the environment method. See setup instructions at https://github.com/Kaggle/kaggle-api/",
     "output_type": "error",
     "traceback": [
      "\u001b[1;31m---------------------------------------------------------------------------\u001b[0m",
      "\u001b[1;31mOSError\u001b[0m                                   Traceback (most recent call last)",
      "Cell \u001b[1;32mIn[1], line 9\u001b[0m\n\u001b[0;32m      7\u001b[0m \u001b[38;5;28;01mfor\u001b[39;00m pkg \u001b[38;5;129;01min\u001b[39;00m [\u001b[38;5;124m'\u001b[39m\u001b[38;5;124mkaggle\u001b[39m\u001b[38;5;124m'\u001b[39m, \u001b[38;5;124m'\u001b[39m\u001b[38;5;124mpandas\u001b[39m\u001b[38;5;124m'\u001b[39m]:\n\u001b[0;32m      8\u001b[0m     \u001b[38;5;28;01mtry\u001b[39;00m:\n\u001b[1;32m----> 9\u001b[0m         \u001b[38;5;28m__import__\u001b[39m(pkg \u001b[38;5;28;01mif\u001b[39;00m pkg \u001b[38;5;241m!=\u001b[39m \u001b[38;5;124m'\u001b[39m\u001b[38;5;124mpandas\u001b[39m\u001b[38;5;124m'\u001b[39m \u001b[38;5;28;01melse\u001b[39;00m \u001b[38;5;124m'\u001b[39m\u001b[38;5;124mpandas\u001b[39m\u001b[38;5;124m'\u001b[39m)\n\u001b[0;32m     10\u001b[0m     \u001b[38;5;28;01mexcept\u001b[39;00m \u001b[38;5;167;01mImportError\u001b[39;00m:\n\u001b[0;32m     11\u001b[0m         pip_install(pkg)\n",
      "File \u001b[1;32m~\\AppData\\Roaming\\Python\\Python312\\site-packages\\kaggle\\__init__.py:6\u001b[0m\n\u001b[0;32m      3\u001b[0m \u001b[38;5;28;01mfrom\u001b[39;00m \u001b[38;5;21;01mkaggle\u001b[39;00m\u001b[38;5;21;01m.\u001b[39;00m\u001b[38;5;21;01mapi\u001b[39;00m\u001b[38;5;21;01m.\u001b[39;00m\u001b[38;5;21;01mkaggle_api_extended\u001b[39;00m \u001b[38;5;28;01mimport\u001b[39;00m KaggleApi\n\u001b[0;32m      5\u001b[0m api \u001b[38;5;241m=\u001b[39m KaggleApi()\n\u001b[1;32m----> 6\u001b[0m api\u001b[38;5;241m.\u001b[39mauthenticate()\n",
      "File \u001b[1;32m~\\AppData\\Roaming\\Python\\Python312\\site-packages\\kaggle\\api\\kaggle_api_extended.py:434\u001b[0m, in \u001b[0;36mKaggleApi.authenticate\u001b[1;34m(self)\u001b[0m\n\u001b[0;32m    432\u001b[0m     \u001b[38;5;28;01mreturn\u001b[39;00m\n\u001b[0;32m    433\u001b[0m   \u001b[38;5;28;01melse\u001b[39;00m:\n\u001b[1;32m--> 434\u001b[0m     \u001b[38;5;28;01mraise\u001b[39;00m \u001b[38;5;167;01mIOError\u001b[39;00m(\u001b[38;5;124m'\u001b[39m\u001b[38;5;124mCould not find \u001b[39m\u001b[38;5;132;01m{}\u001b[39;00m\u001b[38;5;124m. Make sure it\u001b[39m\u001b[38;5;130;01m\\'\u001b[39;00m\u001b[38;5;124ms located in\u001b[39m\u001b[38;5;124m'\u001b[39m\n\u001b[0;32m    435\u001b[0m                   \u001b[38;5;124m'\u001b[39m\u001b[38;5;124m \u001b[39m\u001b[38;5;132;01m{}\u001b[39;00m\u001b[38;5;124m. Or use the environment method. See setup\u001b[39m\u001b[38;5;124m'\u001b[39m\n\u001b[0;32m    436\u001b[0m                   \u001b[38;5;124m'\u001b[39m\u001b[38;5;124m instructions at\u001b[39m\u001b[38;5;124m'\u001b[39m\n\u001b[0;32m    437\u001b[0m                   \u001b[38;5;124m'\u001b[39m\u001b[38;5;124m https://github.com/Kaggle/kaggle-api/\u001b[39m\u001b[38;5;124m'\u001b[39m\u001b[38;5;241m.\u001b[39mformat(\n\u001b[0;32m    438\u001b[0m                       \u001b[38;5;28mself\u001b[39m\u001b[38;5;241m.\u001b[39mconfig_file, \u001b[38;5;28mself\u001b[39m\u001b[38;5;241m.\u001b[39mconfig_dir))\n\u001b[0;32m    440\u001b[0m \u001b[38;5;66;03m# Step 3: load into configuration!\u001b[39;00m\n\u001b[0;32m    441\u001b[0m \u001b[38;5;28mself\u001b[39m\u001b[38;5;241m.\u001b[39m_load_config(config_data)\n",
      "\u001b[1;31mOSError\u001b[0m: Could not find kaggle.json. Make sure it's located in C:\\Users\\JuniorRodriguesdaSil\\.kaggle. Or use the environment method. See setup instructions at https://github.com/Kaggle/kaggle-api/"
     ]
    }
   ],
   "source": [
    "# Instalações básicas (Colab/Jupyter)\n",
    "%pip -q install kaggle pandas\n",
    "print('Dependências OK')"
   ]
  },
  {
   "cell_type": "code",
   "execution_count": null,
   "id": "da45dfc2",
   "metadata": {},
   "outputs": [],
   "source": [
    "# A autenticação do Kaggle será tratada automaticamente na próxima célula se variáveis de ambiente existirem.\n",
    "print('Se KAGGLE_USERNAME/KAGGLE_KEY estiverem definidos, o download usará essas credenciais.')"
   ]
  },
  {
   "cell_type": "code",
   "execution_count": null,
   "id": "1e836397",
   "metadata": {},
   "outputs": [],
   "source": [
    "# Download temporário e carregamento em DataFrame\n",
    "import os, json, pathlib, sys, tempfile, subprocess, glob\n",
    "import pandas as pd\n",
    "\n",
    "_tmp = tempfile.TemporaryDirectory()\n",
    "data_dir = pathlib.Path(_tmp.name) / 'numericos'\n",
    "data_dir.mkdir(parents=True, exist_ok=True)\n",
    "\n",
    "df = None\n",
    "try:\n",
    "    if os.getenv('KAGGLE_USERNAME') and os.getenv('KAGGLE_KEY'):\n",
    "        # Garantir kaggle.json\n",
    "        kdir = pathlib.Path.home() / '.kaggle'\n",
    "        kdir.mkdir(exist_ok=True)\n",
    "        cred_path = kdir / 'kaggle.json'\n",
    "        cred_path.write_text(json.dumps({\n",
    "            'username': os.getenv('KAGGLE_USERNAME'),\n",
    "            'key': os.getenv('KAGGLE_KEY')\n",
    "        }))\n",
    "        # Baixar via Kaggle CLI\n",
    "        cmd = [sys.executable, '-m', 'kaggle', 'datasets', 'download', '-d',\n",
    "               'sulianova/cardiovascular-disease-dataset', '-p', str(data_dir), '--unzip']\n",
    "        print('Baixando dataset Kaggle para:', data_dir)\n",
    "        subprocess.check_call(cmd)\n",
    "        files = glob.glob(str(data_dir / '*.csv'))\n",
    "        if files:\n",
    "            df = pd.read_csv(files[0])\n",
    "            print('Arquivo carregado:', files[0])\n",
    "        else:\n",
    "            print('CSV não encontrado após download Kaggle. Usando amostra sintética...')\n",
    "except Exception as e:\n",
    "    print('Falha no download Kaggle:', e)\n",
    "\n",
    "if df is None:\n",
    "    # Fallback: amostra sintética mínima compatível\n",
    "    import io\n",
    "    csv_text = \"\"\"id,age,gender,height,weight,ap_hi,ap_lo,cholesterol,gluc,smoke,alco,active,cardio\n",
    "0,17500,2,169,62,120,80,1,1,0,0,1,0\n",
    "1,20000,1,156,85,140,90,2,1,0,0,0,1\n",
    "2,22000,2,165,70,160,100,3,2,1,1,1,1\n",
    "3,19000,1,180,95,130,85,1,1,0,0,1,0\n",
    "\"\"\"\n",
    "    df = pd.read_csv(io.StringIO(csv_text))\n",
    "    print('Usando amostra sintética (sem Kaggle).')"
   ]
  },
  {
   "cell_type": "code",
   "execution_count": null,
   "id": "e5a679f0",
   "metadata": {},
   "outputs": [],
   "source": [
    "# EDA básica\n",
    "if 'df' not in globals() or df is None:\n",
    "    raise RuntimeError('DataFrame não disponível. Verifique a célula de download/carregamento.')\n",
    "\n",
    "display(df.head())\n",
    "print(df.info())\n",
    "display(df.describe(include='all'))"
   ]
  }
 ],
 "metadata": {
  "kernelspec": {
   "display_name": "base",
   "language": "python",
   "name": "python3"
  },
  "language_info": {
   "codemirror_mode": {
    "name": "ipython",
    "version": 3
   },
   "file_extension": ".py",
   "mimetype": "text/x-python",
   "name": "python",
   "nbconvert_exporter": "python",
   "pygments_lexer": "ipython3",
   "version": "3.12.7"
  }
 },
 "nbformat": 4,
 "nbformat_minor": 5
}
