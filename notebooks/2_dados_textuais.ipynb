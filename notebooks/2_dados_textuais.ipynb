{
 "cells": [
  {
   "cell_type": "markdown",
   "id": "f64675ac",
   "metadata": {},
   "source": [
    "# Dados Textuais — Diretriz Brasileira de Insuficiência Cardíaca\n",
    "\n",
    "Baixa um PDF público da diretriz, extrai o texto com pdfplumber, exibe os primeiros 2000 caracteres e salva o conteúdo completo em `../docs/diretriz_brasileira_ic.txt`."
   ]
  },
  {
   "cell_type": "code",
   "execution_count": null,
   "id": "17012120",
   "metadata": {},
   "outputs": [
    {
     "name": "stdout",
     "output_type": "stream",
     "text": [
      "Dependências OK\n"
     ]
    }
   ],
   "source": [
    "# Instalar dependências (Colab/Jupyter)\n",
    "%pip -q install requests pdfplumber\n",
    "print('Dependências OK')"
   ]
  },
  {
   "cell_type": "code",
   "execution_count": null,
   "id": "d5e5bf36",
   "metadata": {},
   "outputs": [
    {
     "ename": "HTTPError",
     "evalue": "404 Client Error: Not Found for url: https://docs.bvsalud.org/biblioref/2021/02/1143108/ii-diretriz-brasileira-de-insuficiencia-cardiaca-cronica_7YmQwNq.pdf",
     "output_type": "error",
     "traceback": [
      "\u001b[1;31m---------------------------------------------------------------------------\u001b[0m",
      "\u001b[1;31mHTTPError\u001b[0m                                 Traceback (most recent call last)",
      "Cell \u001b[1;32mIn[2], line 8\u001b[0m\n\u001b[0;32m      6\u001b[0m pdf_path \u001b[38;5;241m=\u001b[39m data_dir\u001b[38;5;241m/\u001b[39m\u001b[38;5;124m'\u001b[39m\u001b[38;5;124mdiretriz_ic.pdf\u001b[39m\u001b[38;5;124m'\u001b[39m\n\u001b[0;32m      7\u001b[0m r \u001b[38;5;241m=\u001b[39m requests\u001b[38;5;241m.\u001b[39mget(pdf_url, timeout\u001b[38;5;241m=\u001b[39m\u001b[38;5;241m60\u001b[39m)\n\u001b[1;32m----> 8\u001b[0m r\u001b[38;5;241m.\u001b[39mraise_for_status()\n\u001b[0;32m      9\u001b[0m pdf_path\u001b[38;5;241m.\u001b[39mwrite_bytes(r\u001b[38;5;241m.\u001b[39mcontent)\n\u001b[0;32m     10\u001b[0m \u001b[38;5;28mprint\u001b[39m(\u001b[38;5;124m'\u001b[39m\u001b[38;5;124mPDF salvo em:\u001b[39m\u001b[38;5;124m'\u001b[39m, pdf_path)\n",
      "File \u001b[1;32mc:\\ProgramData\\anaconda3\\Lib\\site-packages\\requests\\models.py:1024\u001b[0m, in \u001b[0;36mResponse.raise_for_status\u001b[1;34m(self)\u001b[0m\n\u001b[0;32m   1019\u001b[0m     http_error_msg \u001b[38;5;241m=\u001b[39m (\n\u001b[0;32m   1020\u001b[0m         \u001b[38;5;124mf\u001b[39m\u001b[38;5;124m\"\u001b[39m\u001b[38;5;132;01m{\u001b[39;00m\u001b[38;5;28mself\u001b[39m\u001b[38;5;241m.\u001b[39mstatus_code\u001b[38;5;132;01m}\u001b[39;00m\u001b[38;5;124m Server Error: \u001b[39m\u001b[38;5;132;01m{\u001b[39;00mreason\u001b[38;5;132;01m}\u001b[39;00m\u001b[38;5;124m for url: \u001b[39m\u001b[38;5;132;01m{\u001b[39;00m\u001b[38;5;28mself\u001b[39m\u001b[38;5;241m.\u001b[39murl\u001b[38;5;132;01m}\u001b[39;00m\u001b[38;5;124m\"\u001b[39m\n\u001b[0;32m   1021\u001b[0m     )\n\u001b[0;32m   1023\u001b[0m \u001b[38;5;28;01mif\u001b[39;00m http_error_msg:\n\u001b[1;32m-> 1024\u001b[0m     \u001b[38;5;28;01mraise\u001b[39;00m HTTPError(http_error_msg, response\u001b[38;5;241m=\u001b[39m\u001b[38;5;28mself\u001b[39m)\n",
      "\u001b[1;31mHTTPError\u001b[0m: 404 Client Error: Not Found for url: https://docs.bvsalud.org/biblioref/2021/02/1143108/ii-diretriz-brasileira-de-insuficiencia-cardiaca-cronica_7YmQwNq.pdf"
     ]
    }
   ],
   "source": [
    "# Download do PDF para diretório temporário (com fallback offline)\n",
    "import requests, tempfile, pathlib\n",
    "pdf_url = 'https://docs.bvsalud.org/biblioref/2021/02/1143108/ii-diretriz-brasileira-de-insuficiencia-cardiaca-cronica_7YmQwNq.pdf'\n",
    "_tmp = tempfile.TemporaryDirectory()\n",
    "work = pathlib.Path(_tmp.name)\n",
    "pdf_path = work / 'diretriz_ic.pdf'\n",
    "fallback_text = None\n",
    "try:\n",
    "    r = requests.get(pdf_url, timeout=60)\n",
    "    r.raise_for_status()\n",
    "    pdf_path.write_bytes(r.content)\n",
    "    print('PDF salvo temporariamente em:', pdf_path)\n",
    "except Exception as e:\n",
    "    print('Falha ao baixar PDF, seguindo com texto de exemplo. Motivo:', e)\n",
    "    pdf_path = None\n",
    "    fallback_text = (\n",
    "        'Diretriz Brasileira de Insuficiência Cardíaca — Texto de Exemplo. '\\\n",
    "        'Este conteúdo simula o texto extraído do PDF para permitir testes em ambientes sem internet. '\\\n",
    "        'Inclui menções a medicamentos (ex.: enalapril, carvedilol), sintomas (dispneia, edema), '\\\n",
    "        'e condutas terapêuticas para NER e grafos de conhecimento.'\n",
    "    )"
   ]
  },
  {
   "cell_type": "code",
   "execution_count": null,
   "id": "4976c8d1",
   "metadata": {},
   "outputs": [],
   "source": [
    "# Extração de texto (pdfplumber se houver PDF; caso contrário, fallback)\n",
    "import pdfplumber, pathlib\n",
    "out_txt = work / 'diretriz_brasileira_ic.txt'\n",
    "\n",
    "if pdf_path and pathlib.Path(pdf_path).exists():\n",
    "    text_parts = []\n",
    "    with pdfplumber.open(str(pdf_path)) as pdf:\n",
    "        for page in pdf.pages:\n",
    "            text_parts.append(page.extract_text(x_tolerance=1, y_tolerance=1) or '')\n",
    "    full_text = '\\n'.join(text_parts)\n",
    "else:\n",
    "    full_text = fallback_text or 'Conteúdo de fallback não disponível.'\n",
    "\n",
    "print(full_text[:2000])\n",
    "out_txt.write_text(full_text, encoding='utf-8')\n",
    "print('Texto completo salvo temporariamente em:', out_txt)\n",
    "print('Para persistir no repositório, mova para ../docs/diretriz_brasileira_ic.txt')"
   ]
  }
 ],
 "metadata": {
  "kernelspec": {
   "display_name": "base",
   "language": "python",
   "name": "python3"
  },
  "language_info": {
   "codemirror_mode": {
    "name": "ipython",
    "version": 3
   },
   "file_extension": ".py",
   "mimetype": "text/x-python",
   "name": "python",
   "nbconvert_exporter": "python",
   "pygments_lexer": "ipython3",
   "version": "3.12.7"
  }
 },
 "nbformat": 4,
 "nbformat_minor": 5
}
